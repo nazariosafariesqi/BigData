{
  "nbformat": 4,
  "nbformat_minor": 0,
  "metadata": {
    "colab": {
      "name": "Jobsheet13.ipynb",
      "provenance": [],
      "authorship_tag": "ABX9TyNIGk9yaVY/g3t1E+zDGCeE",
      "include_colab_link": true
    },
    "kernelspec": {
      "name": "python3",
      "display_name": "Python 3"
    },
    "language_info": {
      "name": "python"
    }
  },
  "cells": [
    {
      "cell_type": "markdown",
      "metadata": {
        "id": "view-in-github",
        "colab_type": "text"
      },
      "source": [
        "<a href=\"https://colab.research.google.com/github/nazariosafariesqi/BigData/blob/main/Jobsheet13.ipynb\" target=\"_parent\"><img src=\"https://colab.research.google.com/assets/colab-badge.svg\" alt=\"Open In Colab\"/></a>"
      ]
    },
    {
      "cell_type": "markdown",
      "source": [
        "**BIG DATA JS 13**\n"
      ],
      "metadata": {
        "id": "JKJbMd9FoQu0"
      }
    },
    {
      "cell_type": "code",
      "source": [
        "!apt-get install openjdk-8-jdk-headless -qq > /dev/null"
      ],
      "metadata": {
        "id": "twRgLZO0ogSr"
      },
      "execution_count": 1,
      "outputs": []
    },
    {
      "cell_type": "code",
      "source": [
        "!wget -q https://dlcdn.apache.org/spark/spark-3.2.1/spark-3.2.1-bin-hadoop3.2.tgz"
      ],
      "metadata": {
        "id": "UJ3_ClVJo4ET"
      },
      "execution_count": 4,
      "outputs": []
    },
    {
      "cell_type": "code",
      "source": [
        "!tar xf spark-3.2.1-bin-hadoop3.2.tgz"
      ],
      "metadata": {
        "id": "XMQ07fabpSIc"
      },
      "execution_count": 5,
      "outputs": []
    },
    {
      "cell_type": "code",
      "source": [
        "import os\n",
        "os.environ[\"JAVA_HOME\"] = \"/usr/lib/jvm/java-8-openjdk-amd64\"\n",
        "os.environ[\"SPARK_HOME\"] = \"/content/spark-3.2.1-bin-hadoop3.2\""
      ],
      "metadata": {
        "id": "2vNxuL6ApVdk"
      },
      "execution_count": 6,
      "outputs": []
    },
    {
      "cell_type": "code",
      "source": [
        "!pip install -q findspark"
      ],
      "metadata": {
        "id": "4QZ9wiiUpYps"
      },
      "execution_count": 7,
      "outputs": []
    },
    {
      "cell_type": "code",
      "source": [
        "import findspark\n",
        "findspark.init()"
      ],
      "metadata": {
        "id": "tSC7IAC4pagL"
      },
      "execution_count": 8,
      "outputs": []
    },
    {
      "cell_type": "code",
      "source": [
        "from pyspark.sql import SparkSession\n",
        "spark = SparkSession.builder\\\n",
        " .master(\"local\")\\\n",
        " .appName(\"Colab\")\\\n",
        " .config('spark.ui.port', '4050')\\\n",
        " .getOrCreate()"
      ],
      "metadata": {
        "id": "lsW4hOcKpftL"
      },
      "execution_count": 9,
      "outputs": []
    },
    {
      "cell_type": "code",
      "source": [
        "!wget https://raw.githubusercontent.com/dhanifudin/pyspark-demo/main/sample_books.json"
      ],
      "metadata": {
        "colab": {
          "base_uri": "https://localhost:8080/"
        },
        "id": "utOeb5HvpkMz",
        "outputId": "d0842bbc-de5d-4d10-84f1-b4204987e060"
      },
      "execution_count": 10,
      "outputs": [
        {
          "output_type": "stream",
          "name": "stdout",
          "text": [
            "--2022-06-06 15:33:35--  https://raw.githubusercontent.com/dhanifudin/pyspark-demo/main/sample_books.json\n",
            "Resolving raw.githubusercontent.com (raw.githubusercontent.com)... 185.199.108.133, 185.199.109.133, 185.199.110.133, ...\n",
            "Connecting to raw.githubusercontent.com (raw.githubusercontent.com)|185.199.108.133|:443... connected.\n",
            "HTTP request sent, awaiting response... 200 OK\n",
            "Length: 1565 (1.5K) [text/plain]\n",
            "Saving to: ‘sample_books.json’\n",
            "\n",
            "\rsample_books.json     0%[                    ]       0  --.-KB/s               \rsample_books.json   100%[===================>]   1.53K  --.-KB/s    in 0s      \n",
            "\n",
            "2022-06-06 15:33:35 (22.9 MB/s) - ‘sample_books.json’ saved [1565/1565]\n",
            "\n"
          ]
        }
      ]
    },
    {
      "cell_type": "code",
      "source": [
        "df = spark.read.json(\"sample_books.json\")\n",
        "df.printSchema()"
      ],
      "metadata": {
        "colab": {
          "base_uri": "https://localhost:8080/"
        },
        "id": "xy_CqxkZpn3z",
        "outputId": "29b7f3b0-16a5-449c-d2eb-784761a69e2b"
      },
      "execution_count": 11,
      "outputs": [
        {
          "output_type": "stream",
          "name": "stdout",
          "text": [
            "root\n",
            " |-- author: string (nullable = true)\n",
            " |-- edition: string (nullable = true)\n",
            " |-- price: double (nullable = true)\n",
            " |-- title: string (nullable = true)\n",
            " |-- year_written: long (nullable = true)\n",
            "\n"
          ]
        }
      ]
    },
    {
      "cell_type": "code",
      "source": [
        "df.show(4,False)"
      ],
      "metadata": {
        "colab": {
          "base_uri": "https://localhost:8080/"
        },
        "id": "5nxoP_33pt0E",
        "outputId": "be5d541b-085e-4318-a8f5-f1e29a8c31f7"
      },
      "execution_count": 12,
      "outputs": [
        {
          "output_type": "stream",
          "name": "stdout",
          "text": [
            "+---------------+--------------+-----+----------------+------------+\n",
            "|author         |edition       |price|title           |year_written|\n",
            "+---------------+--------------+-----+----------------+------------+\n",
            "|Austen, Jane   |Penguin       |18.2 |Northanger Abbey|1814        |\n",
            "|Tolstoy, Leo   |Penguin       |12.7 |War and Peace   |1865        |\n",
            "|Tolstoy, Leo   |Penguin       |13.5 |Anna Karenina   |1875        |\n",
            "|Woolf, Virginia|Harcourt Brace|25.0 |Mrs. Dalloway   |1925        |\n",
            "+---------------+--------------+-----+----------------+------------+\n",
            "only showing top 4 rows\n",
            "\n"
          ]
        }
      ]
    },
    {
      "cell_type": "code",
      "source": [
        "df.select(\"title\", \"price\", \"year_written\").show(5)"
      ],
      "metadata": {
        "colab": {
          "base_uri": "https://localhost:8080/"
        },
        "id": "wgEfpyiapu8T",
        "outputId": "1bfae687-c33e-408e-f791-f93c6c510f7e"
      },
      "execution_count": 13,
      "outputs": [
        {
          "output_type": "stream",
          "name": "stdout",
          "text": [
            "+----------------+-----+------------+\n",
            "|           title|price|year_written|\n",
            "+----------------+-----+------------+\n",
            "|Northanger Abbey| 18.2|        1814|\n",
            "|   War and Peace| 12.7|        1865|\n",
            "|   Anna Karenina| 13.5|        1875|\n",
            "|   Mrs. Dalloway| 25.0|        1925|\n",
            "|       The Hours|12.35|        1999|\n",
            "+----------------+-----+------------+\n",
            "only showing top 5 rows\n",
            "\n"
          ]
        }
      ]
    },
    {
      "cell_type": "code",
      "source": [
        "df_filtered = df.filter(\"year_written > 1950 AND price > 10 AND title IS NOT NULL\")\n",
        "df_filtered.select(\"title\", \"price\", \"year_written\").show(50,False)"
      ],
      "metadata": {
        "colab": {
          "base_uri": "https://localhost:8080/"
        },
        "id": "WkrzavK8pw7c",
        "outputId": "27c54cde-5115-4356-fb5a-19112c6100c2"
      },
      "execution_count": 14,
      "outputs": [
        {
          "output_type": "stream",
          "name": "stdout",
          "text": [
            "+-----------------------------+-----+------------+\n",
            "|title                        |price|year_written|\n",
            "+-----------------------------+-----+------------+\n",
            "|The Hours                    |12.35|1999        |\n",
            "|Harry Potter                 |19.95|2000        |\n",
            "|One Hundred Years of Solitude|14.0 |1967        |\n",
            "+-----------------------------+-----+------------+\n",
            "\n"
          ]
        }
      ]
    },
    {
      "cell_type": "code",
      "source": [
        "from pyspark.sql.functions import mean, min, max\n",
        "result = df.select([max(\"price\")])\n",
        "result.show()"
      ],
      "metadata": {
        "colab": {
          "base_uri": "https://localhost:8080/"
        },
        "id": "33n-Q08Ap0t0",
        "outputId": "b49b2fcc-7d8f-4243-e5c1-68e5057fa7ac"
      },
      "execution_count": 15,
      "outputs": [
        {
          "output_type": "stream",
          "name": "stdout",
          "text": [
            "+----------+\n",
            "|max(price)|\n",
            "+----------+\n",
            "|      29.0|\n",
            "+----------+\n",
            "\n"
          ]
        }
      ]
    },
    {
      "cell_type": "markdown",
      "source": [
        "1. Tampilkan data buku dengan harga paling murah! "
      ],
      "metadata": {
        "id": "jrUu3oGZqqS1"
      }
    },
    {
      "cell_type": "code",
      "source": [
        "from pyspark.sql.functions import mean, min, max\n",
        "result = df.select([min(\"price\")])\n",
        "result.show()"
      ],
      "metadata": {
        "colab": {
          "base_uri": "https://localhost:8080/"
        },
        "id": "SgNtq06Np419",
        "outputId": "9ba7afd5-ed48-41ea-c44a-e143fffbaa72"
      },
      "execution_count": 16,
      "outputs": [
        {
          "output_type": "stream",
          "name": "stdout",
          "text": [
            "+----------+\n",
            "|min(price)|\n",
            "+----------+\n",
            "|      5.75|\n",
            "+----------+\n",
            "\n"
          ]
        }
      ]
    },
    {
      "cell_type": "markdown",
      "source": [
        "2. Tampilkan jumlah terbit buku dikategorikan setiap tahun ditulis! \n"
      ],
      "metadata": {
        "id": "qW_oZYKhqvW8"
      }
    },
    {
      "cell_type": "code",
      "source": [
        "from pyspark.sql.functions import mean, min, max, count\n",
        "df.groupBy(\"title\", \"year_written\").count().show()"
      ],
      "metadata": {
        "colab": {
          "base_uri": "https://localhost:8080/"
        },
        "id": "6s5XqjJOp-nE",
        "outputId": "802bebc8-19e8-4cf9-ef84-14db0a04d8d7"
      },
      "execution_count": 17,
      "outputs": [
        {
          "output_type": "stream",
          "name": "stdout",
          "text": [
            "+--------------------+------------+-----+\n",
            "|               title|year_written|count|\n",
            "+--------------------+------------+-----+\n",
            "|        Harry Potter|        2000|    1|\n",
            "|    Huckleberry Finn|        1865|    1|\n",
            "|Hamlet, Prince of...|        1603|    1|\n",
            "|         Bleak House|        1870|    1|\n",
            "|       War and Peace|        1865|    1|\n",
            "| A Room of One's Own|        1922|    1|\n",
            "|   Lord of the Rings|        1937|    1|\n",
            "|       Anna Karenina|        1875|    1|\n",
            "|       Mrs. Dalloway|        1925|    1|\n",
            "|           The Hours|        1999|    1|\n",
            "|One Hundred Years...|        1967|    1|\n",
            "|          Tom Sawyer|        1862|    1|\n",
            "|    Northanger Abbey|        1814|    1|\n",
            "+--------------------+------------+-----+\n",
            "\n"
          ]
        }
      ]
    },
    {
      "cell_type": "markdown",
      "source": [
        "3. Tampilkan data buku termahal tiap tahun penulisannya! "
      ],
      "metadata": {
        "id": "EFv2i0Rtq2ht"
      }
    },
    {
      "cell_type": "code",
      "source": [
        "from pyspark.sql.functions import mean, min, max, count\n",
        "df.groupBy(\"title\", \"price\").max().show()"
      ],
      "metadata": {
        "colab": {
          "base_uri": "https://localhost:8080/"
        },
        "id": "b08IvSGiqMbN",
        "outputId": "fd5b590f-4dd3-40a4-fe71-94b60b89362c"
      },
      "execution_count": 18,
      "outputs": [
        {
          "output_type": "stream",
          "name": "stdout",
          "text": [
            "+--------------------+-----+----------+-----------------+\n",
            "|               title|price|max(price)|max(year_written)|\n",
            "+--------------------+-----+----------+-----------------+\n",
            "|       Anna Karenina| 13.5|      13.5|             1875|\n",
            "|   Lord of the Rings|27.45|     27.45|             1937|\n",
            "|       Mrs. Dalloway| 25.0|      25.0|             1925|\n",
            "|    Northanger Abbey| 18.2|      18.2|             1814|\n",
            "|    Huckleberry Finn| 5.76|      5.76|             1865|\n",
            "|         Bleak House| 5.75|      5.75|             1870|\n",
            "|          Tom Sawyer| 7.75|      7.75|             1862|\n",
            "|           The Hours|12.35|     12.35|             1999|\n",
            "|One Hundred Years...| 14.0|      14.0|             1967|\n",
            "|       War and Peace| 12.7|      12.7|             1865|\n",
            "|Hamlet, Prince of...| 7.95|      7.95|             1603|\n",
            "| A Room of One's Own| 29.0|      29.0|             1922|\n",
            "|        Harry Potter|19.95|     19.95|             2000|\n",
            "+--------------------+-----+----------+-----------------+\n",
            "\n"
          ]
        }
      ]
    },
    {
      "cell_type": "markdown",
      "source": [
        "4. Tampilkan data buku termurah tiap tahun penulisannya!"
      ],
      "metadata": {
        "id": "xHZx1MtSq457"
      }
    },
    {
      "cell_type": "code",
      "source": [
        "from pyspark.sql.functions import mean, min, max, count\n",
        "df.groupBy(\"title\", \"price\").min().show()"
      ],
      "metadata": {
        "colab": {
          "base_uri": "https://localhost:8080/"
        },
        "id": "1pTpIIL-qNtj",
        "outputId": "96ad742d-a42a-44a9-9c2b-411b241e0dae"
      },
      "execution_count": 19,
      "outputs": [
        {
          "output_type": "stream",
          "name": "stdout",
          "text": [
            "+--------------------+-----+----------+-----------------+\n",
            "|               title|price|min(price)|min(year_written)|\n",
            "+--------------------+-----+----------+-----------------+\n",
            "|       Anna Karenina| 13.5|      13.5|             1875|\n",
            "|   Lord of the Rings|27.45|     27.45|             1937|\n",
            "|       Mrs. Dalloway| 25.0|      25.0|             1925|\n",
            "|    Northanger Abbey| 18.2|      18.2|             1814|\n",
            "|    Huckleberry Finn| 5.76|      5.76|             1865|\n",
            "|         Bleak House| 5.75|      5.75|             1870|\n",
            "|          Tom Sawyer| 7.75|      7.75|             1862|\n",
            "|           The Hours|12.35|     12.35|             1999|\n",
            "|One Hundred Years...| 14.0|      14.0|             1967|\n",
            "|       War and Peace| 12.7|      12.7|             1865|\n",
            "|Hamlet, Prince of...| 7.95|      7.95|             1603|\n",
            "| A Room of One's Own| 29.0|      29.0|             1922|\n",
            "|        Harry Potter|19.95|     19.95|             2000|\n",
            "+--------------------+-----+----------+-----------------+\n",
            "\n"
          ]
        }
      ]
    }
  ]
}